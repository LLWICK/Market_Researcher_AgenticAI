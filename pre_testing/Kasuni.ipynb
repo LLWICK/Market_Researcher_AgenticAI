{
 "cells": [
  {
   "cell_type": "code",
   "execution_count": 2,
   "id": "0d817af8",
   "metadata": {},
   "outputs": [
    {
     "name": "stdout",
     "output_type": "stream",
     "text": [
      "Hello World\n"
     ]
    }
   ],
   "source": [
    "print('Hello World')"
   ]
  },
  {
   "cell_type": "code",
   "execution_count": 4,
   "id": "8191ed63",
   "metadata": {},
   "outputs": [],
   "source": [
    "from crewai import agent"
   ]
  },
  {
   "cell_type": "code",
   "execution_count": 6,
   "id": "13b748eb",
   "metadata": {},
   "outputs": [],
   "source": [
    "from agno import agent"
   ]
  }
 ],
 "metadata": {
  "kernelspec": {
   "display_name": "market-researcher-agenticai",
   "language": "python",
   "name": "python3"
  },
  "language_info": {
   "codemirror_mode": {
    "name": "ipython",
    "version": 3
   },
   "file_extension": ".py",
   "mimetype": "text/x-python",
   "name": "python",
   "nbconvert_exporter": "python",
   "pygments_lexer": "ipython3",
   "version": "3.13.3"
  }
 },
 "nbformat": 4,
 "nbformat_minor": 5
}
